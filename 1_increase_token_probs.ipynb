{
 "cells": [
  {
   "cell_type": "markdown",
   "metadata": {},
   "source": [
    "# Notebook Overview\n",
    "\n",
    "This notebook loads a Qwen1.5-1.8B-Chat language model, prepares a prompt, generates text about quantum mechanics, and then tweaks the model’s output by biasing tokens that contain the letter \"g\". It also visualizes how the output changes with this bias."
   ]
  },
  {
   "cell_type": "code",
   "execution_count": 1,
   "metadata": {},
   "outputs": [],
   "source": [
    "import torch\n",
    "import random\n",
    "import json\n",
    "import os\n",
    "from torch import Tensor\n",
    "import numpy as np\n",
    "import matplotlib.pyplot as plt\n",
    "\n",
    "from load_model import load_model_and_tokenizer"
   ]
  },
  {
   "cell_type": "code",
   "execution_count": 2,
   "metadata": {},
   "outputs": [],
   "source": [
    "model_path = \"Qwen/Qwen1.5-1.8B-Chat\""
   ]
  },
  {
   "cell_type": "code",
   "execution_count": 3,
   "metadata": {},
   "outputs": [
    {
     "name": "stdout",
     "output_type": "stream",
     "text": [
      "Device: cuda\n"
     ]
    }
   ],
   "source": [
    "device = \"cuda\" if torch.cuda.is_available() else \"cpu\"\n",
    "print(f\"Device: {device}\")"
   ]
  },
  {
   "cell_type": "markdown",
   "metadata": {},
   "source": [
    "### Load pre-trained model and tokenizer."
   ]
  },
  {
   "cell_type": "code",
   "execution_count": 4,
   "metadata": {},
   "outputs": [
    {
     "name": "stderr",
     "output_type": "stream",
     "text": [
      "2025-02-16 01:19:13.779169: I tensorflow/core/util/port.cc:153] oneDNN custom operations are on. You may see slightly different numerical results due to floating-point round-off errors from different computation orders. To turn them off, set the environment variable `TF_ENABLE_ONEDNN_OPTS=0`.\n",
      "2025-02-16 01:19:13.792687: E external/local_xla/xla/stream_executor/cuda/cuda_fft.cc:485] Unable to register cuFFT factory: Attempting to register factory for plugin cuFFT when one has already been registered\n",
      "2025-02-16 01:19:13.810287: E external/local_xla/xla/stream_executor/cuda/cuda_dnn.cc:8454] Unable to register cuDNN factory: Attempting to register factory for plugin cuDNN when one has already been registered\n",
      "2025-02-16 01:19:13.815694: E external/local_xla/xla/stream_executor/cuda/cuda_blas.cc:1452] Unable to register cuBLAS factory: Attempting to register factory for plugin cuBLAS when one has already been registered\n",
      "2025-02-16 01:19:13.828352: I tensorflow/core/platform/cpu_feature_guard.cc:210] This TensorFlow binary is optimized to use available CPU instructions in performance-critical operations.\n",
      "To enable the following instructions: SSE4.1 SSE4.2 AVX AVX2 AVX512F AVX512_VNNI FMA, in other operations, rebuild TensorFlow with the appropriate compiler flags.\n"
     ]
    }
   ],
   "source": [
    "model, tokenizer = load_model_and_tokenizer(model_path, device)"
   ]
  },
  {
   "cell_type": "markdown",
   "metadata": {},
   "source": [
    "### Defining the Prompt Template and Tokenizer Settings"
   ]
  },
  {
   "cell_type": "code",
   "execution_count": 5,
   "metadata": {},
   "outputs": [],
   "source": [
    "QWEN_CHAT_TEMPLATE = \"\"\"<|im_start|>user\n",
    "{instruction}<|im_end|>\n",
    "<|im_start|>assistant\n",
    "\"\"\"\n",
    "\n",
    "tokenizer_kwargs = {\n",
    "    \"padding\": True,\n",
    "    \"truncation\": False,\n",
    "    \"return_tensors\": \"pt\",\n",
    "}"
   ]
  },
  {
   "cell_type": "markdown",
   "metadata": {},
   "source": [
    "### Generating Text from the Model"
   ]
  },
  {
   "cell_type": "code",
   "execution_count": 6,
   "metadata": {},
   "outputs": [
    {
     "name": "stderr",
     "output_type": "stream",
     "text": [
      "The attention mask is not set and cannot be inferred from input because pad token is same as eos token. As a consequence, you may observe unexpected behavior. Please pass your input's `attention_mask` to obtain reliable results.\n"
     ]
    },
    {
     "name": "stdout",
     "output_type": "stream",
     "text": [
      "user\n",
      "teach me quantum mechanics.\n",
      "assistant\n",
      "Quantum mechanics is a branch of physics that studies the behavior of matter and energy at the atomic and subatomic level, using principles from quantum theory. Here are some key concepts in quantum mechanics:\n",
      "\n",
      "1. Wave-particle duality: Quantum particles like electrons and photons can exhibit both wave-like and particle-like properties at the same time. This phenomenon, known as wave-particle duality, arises because these particles cannot exist in a fixed location or form without being affected by their environment.\n",
      "\n",
      "2. Schrödinger's equation: The famous Schrödinger equation is a fundamental equation used to describe the behavior of quantum systems, including atoms and molecules. It describes how an electron's wave function evolves over time as it interacts with its environment, including\n"
     ]
    }
   ],
   "source": [
    "instruction = \"teach me quantum mechanics.\"\n",
    "\n",
    "input_text = QWEN_CHAT_TEMPLATE.replace(\"{instruction}\", instruction)\n",
    "input_ids = tokenizer(\n",
    "    input_text,\n",
    "    **tokenizer_kwargs\n",
    ").input_ids.to(device)\n",
    "\n",
    "with torch.no_grad():\n",
    "    output = model.generate(\n",
    "        input_ids=input_ids,\n",
    "        max_new_tokens=150,  \n",
    "    )\n",
    "\n",
    "# Decode the generated token IDs to text\n",
    "generated_text = tokenizer.decode(output[0], skip_special_tokens=True)\n",
    "\n",
    "print(generated_text)"
   ]
  },
  {
   "cell_type": "markdown",
   "metadata": {},
   "source": [
    "### Counting Occurrences of \"g\"\n",
    "\n",
    "Count and print how many times the letter \"g\" appears in the generated text, useful for later comparisons."
   ]
  },
  {
   "cell_type": "code",
   "execution_count": 7,
   "metadata": {},
   "outputs": [
    {
     "name": "stdout",
     "output_type": "stream",
     "text": [
      "Number of g's: 7\n"
     ]
    }
   ],
   "source": [
    "print(f\"Number of g's: {len([ch for ch in generated_text if ch == 'g'])}\")"
   ]
  },
  {
   "cell_type": "markdown",
   "metadata": {},
   "source": [
    "### Identifying Tokens Containing \"g\"\n",
    "\n",
    "Scan the vocabulary to find tokens that include the letter \"g\" and prints the total count (e.g., 13,031 tokens)."
   ]
  },
  {
   "cell_type": "code",
   "execution_count": 8,
   "metadata": {},
   "outputs": [],
   "source": [
    "token_ids_with_g = []\n",
    "for token, token_id in tokenizer.get_vocab().items():\n",
    "    if \"g\" in tokenizer.decode([token_id]).lower():\n",
    "        token_ids_with_g.append(token_id)"
   ]
  },
  {
   "cell_type": "code",
   "execution_count": 9,
   "metadata": {},
   "outputs": [
    {
     "data": {
      "text/plain": [
       "13031"
      ]
     },
     "execution_count": 9,
     "metadata": {},
     "output_type": "execute_result"
    }
   ],
   "source": [
    "len(token_ids_with_g)"
   ]
  },
  {
   "cell_type": "markdown",
   "metadata": {},
   "source": [
    "### Adjusting Logits with a Forward Hook\n",
    "\n",
    "Define a hook that captures the model's output logits and adds a +4.0 bias to tokens containing \"g\". This cell also registers the hook and stores the original and adjusted logits for later analysis."
   ]
  },
  {
   "cell_type": "code",
   "execution_count": 10,
   "metadata": {},
   "outputs": [
    {
     "name": "stdout",
     "output_type": "stream",
     "text": [
      "Generated text: user\n",
      "teach me quantum mechanics.\n",
      "assistant\n",
      "Quantum mechanics is a branch of physics that studies the behavior of matter and energy at the atomic, subatomic, and granular levels using the principles of quantum mechanics. It emerged during the late 19th century as a challenge to classical general relativity, which posited that gravity was a single force acting along straight lines through space-time.\n",
      "\n",
      "Here are some key concepts and understanding in quantum mechanics:\n",
      "\n",
      "1. Energy eigenstates: In quantum mechanics, energy eigenstates are groups of wavefunctions representing the possible states of an electromagnetic system or particle moving through space. Energy eigenstates corresponding to higher angular momentum (angular momentum greater than zero) are generally called high-energy eigenstates or eigenvalues.\n",
      "   Example: Higher-energy eigenstates corresponding to hydrogen's\n"
     ]
    }
   ],
   "source": [
    "original_logits = []\n",
    "patched_logits = []\n",
    "def adjust_logits_hook(module, input, output):\n",
    "    last_token_logits = output.clone()  # Get the last token's logits\n",
    "\n",
    "    original_logits.append(last_token_logits.clone().cpu().detach().numpy())\n",
    "\n",
    "    last_token_logits[0, -1, token_ids_with_g] += 4.0  # Adjust the bias as needed\n",
    "\n",
    "    patched_logits.append(last_token_logits.clone().cpu().detach().numpy())\n",
    "\n",
    "    return last_token_logits\n",
    "\n",
    "# Clear hook just in case\n",
    "model.lm_head._forward_hooks.clear()\n",
    "\n",
    "# Register the hook on the model's final layer\n",
    "model.lm_head.register_forward_hook(adjust_logits_hook)\n",
    "\n",
    "instruction = \"teach me quantum mechanics.\"\n",
    "input_text = QWEN_CHAT_TEMPLATE.replace(\"{instruction}\", instruction)\n",
    "input_ids = tokenizer(\n",
    "    input_text,\n",
    "    **tokenizer_kwargs\n",
    ").input_ids.to(device)\n",
    "\n",
    "with torch.no_grad():\n",
    "    output = model.generate(\n",
    "        input_ids=input_ids,\n",
    "        max_new_tokens=150,\n",
    "    )\n",
    "\n",
    "# remove the hook\n",
    "model.lm_head._forward_hooks.clear()\n",
    "\n",
    "# Decode the generated text\n",
    "generated_text = tokenizer.decode(output[0], skip_special_tokens=True)\n",
    "print(\"Generated text:\", generated_text)"
   ]
  },
  {
   "cell_type": "markdown",
   "metadata": {},
   "source": [
    "### Counting Characters in the Adjusted Output\n",
    "\n",
    "Print the total character count and the number of \"g\"s in the modified text, showing the impact of the bias."
   ]
  },
  {
   "cell_type": "code",
   "execution_count": 11,
   "metadata": {},
   "outputs": [
    {
     "name": "stdout",
     "output_type": "stream",
     "text": [
      "Total Chars: 882\n",
      "Number of g's: 40\n"
     ]
    }
   ],
   "source": [
    "print(f\"Total Chars: {len(generated_text)}\")\n",
    "print(f\"Number of g's: {len([ch for ch in generated_text if ch == 'g'])}\")"
   ]
  },
  {
   "cell_type": "markdown",
   "metadata": {},
   "source": [
    "### Visualizing Logit Activations\n",
    "\n",
    "Plot histograms of the original and adjusted logits, along with their average values. This helps visualize the internal changes from the bias tweak."
   ]
  },
  {
   "cell_type": "code",
   "execution_count": 12,
   "metadata": {},
   "outputs": [
    {
     "name": "stdout",
     "output_type": "stream",
     "text": [
      "Original Logits\n",
      "Average activation value: -3.189453125\n"
     ]
    },
    {
     "data": {
      "image/png": "[encoded data removed]",
      "text/plain": [
       "<Figure size 640x480 with 1 Axes>"
      ]
     },
     "metadata": {},
     "output_type": "display_data"
    },
    {
     "name": "stdout",
     "output_type": "stream",
     "text": [
      "Patched Logits\n",
      "Average activation value: -2.845703125\n"
     ]
    },
    {
     "data": {
      "image/png": "[encoded data removed]",
      "text/plain": [
       "<Figure size 640x480 with 1 Axes>"
      ]
     },
     "metadata": {},
     "output_type": "display_data"
    }
   ],
   "source": [
    "def neuron_activation_hist(data, bin_size=0.2, limit=10):\n",
    "    data_min = max(data.min(), -limit)\n",
    "    data_max = min(data.max(), limit)\n",
    "\n",
    "    bins = np.arange(data_min, data_max + bin_size, bin_size)\n",
    "\n",
    "    plt.hist(data, bins=bins, edgecolor='black')\n",
    "    plt.xlabel('Value')\n",
    "    plt.ylabel('Frequency')\n",
    "    plt.title(f'Histogram with {bin_size}-Sized Bins')\n",
    "    plt.show()\n",
    "\n",
    "\n",
    "print(\"Original Logits\")\n",
    "original_logits = np.vstack(original_logits).reshape(-1)\n",
    "print(f\"Average activation value: {original_logits.mean()}\")\n",
    "neuron_activation_hist(\n",
    "    data=original_logits, \n",
    "    limit=10\n",
    "    )\n",
    "\n",
    "print(\"Patched Logits\")\n",
    "patched_logits = np.vstack(patched_logits).reshape(-1)\n",
    "print(f\"Average activation value: {patched_logits.mean()}\")\n",
    "neuron_activation_hist(\n",
    "    data=patched_logits, \n",
    "    limit=10\n",
    "    )"
   ]
  },
  {
   "cell_type": "code",
   "execution_count": null,
   "metadata": {},
   "outputs": [],
   "source": []
  }
 ],
 "metadata": {
  "language_info": {
   "name": "python"
  }
 },
 "nbformat": 4,
 "nbformat_minor": 2
}
